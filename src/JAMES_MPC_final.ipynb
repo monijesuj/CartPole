{
 "cells": [
  {
   "cell_type": "code",
   "execution_count": 26,
   "metadata": {},
   "outputs": [],
   "source": [
    "import numpy as np\n",
    "import cvxpy as cp\n",
    "import control as ctrl\n",
    "from scipy import sparse\n",
    "import matplotlib.pyplot as plt\n",
    "from math import sin, cos\n",
    "import matplotlib.animation as animation\n",
    "from matplotlib.animation import PillowWriter"
   ]
  },
  {
   "cell_type": "code",
   "execution_count": 27,
   "metadata": {},
   "outputs": [],
   "source": [
    "M = 0.5\n",
    "m = 0.2\n",
    "b = 0.1\n",
    "I = 0.006\n",
    "g = 9.81\n",
    "l = 0.3\n",
    "\n",
    "Ts = 1/10\n",
    "\n",
    "A_22 = (-(I+m*l**2)*b)/(I*(M+m)+M*m*l**2)\n",
    "A_23 = (m**2 * g * l**2)/ (I*(M+m) + M*m* l**2)\n",
    "A_42 = (-m*l*b)/(I*(M+m) + M*m* l**2)\n",
    "A_43 = ((m*g*l)*(M+m))/(I*(M+m) + M*m* l**2)\n",
    "B_2 = (I + m*l**2)/(I*(M+m) + M*m*l**2)\n",
    "B_4 = (m*l)/(I*(M+m) + M*m*l**2)\n",
    "\n",
    "# State space matrices\n",
    "A = np.array([[0, 1, 0, 0],\n",
    "              [0, A_22, A_23, 0],\n",
    "              [0, 0, 0, 1],\n",
    "              [0, A_42, A_43, 0]])\n",
    "\n",
    "B = np.array([[0],\n",
    "              [B_2],\n",
    "              [0],\n",
    "              [B_4]])\n",
    "\n",
    "C = np.array([[1, 0, 0, 0],\n",
    "              [0, 0, 1, 0]])\n",
    "\n",
    "D = np.array([[0],\n",
    "              [0]])"
   ]
  },
  {
   "cell_type": "code",
   "execution_count": 28,
   "metadata": {},
   "outputs": [],
   "source": [
    "#Construct a state-space system\n",
    "\n",
    "sys_ss = ctrl.StateSpace(A, B, C, D)"
   ]
  },
  {
   "cell_type": "code",
   "execution_count": 29,
   "metadata": {},
   "outputs": [
    {
     "data": {
      "text/latex": [
       "$$\n",
       "\\left(\\begin{array}{rllrllrllrll|rll}\n",
       "0\\phantom{.}&\\hspace{-1em}&\\hspace{-1em}\\phantom{\\cdot}&1\\phantom{.}&\\hspace{-1em}&\\hspace{-1em}\\phantom{\\cdot}&0\\phantom{.}&\\hspace{-1em}&\\hspace{-1em}\\phantom{\\cdot}&0\\phantom{.}&\\hspace{-1em}&\\hspace{-1em}\\phantom{\\cdot}&0\\phantom{.}&\\hspace{-1em}&\\hspace{-1em}\\phantom{\\cdot}\\\\\n",
       "0\\phantom{.}&\\hspace{-1em}&\\hspace{-1em}\\phantom{\\cdot}&-0.&\\hspace{-1em}182&\\hspace{-1em}\\phantom{\\cdot}&2.&\\hspace{-1em}68&\\hspace{-1em}\\phantom{\\cdot}&0\\phantom{.}&\\hspace{-1em}&\\hspace{-1em}\\phantom{\\cdot}&1.&\\hspace{-1em}82&\\hspace{-1em}\\phantom{\\cdot}\\\\\n",
       "0\\phantom{.}&\\hspace{-1em}&\\hspace{-1em}\\phantom{\\cdot}&0\\phantom{.}&\\hspace{-1em}&\\hspace{-1em}\\phantom{\\cdot}&0\\phantom{.}&\\hspace{-1em}&\\hspace{-1em}\\phantom{\\cdot}&1\\phantom{.}&\\hspace{-1em}&\\hspace{-1em}\\phantom{\\cdot}&0\\phantom{.}&\\hspace{-1em}&\\hspace{-1em}\\phantom{\\cdot}\\\\\n",
       "0\\phantom{.}&\\hspace{-1em}&\\hspace{-1em}\\phantom{\\cdot}&-0.&\\hspace{-1em}455&\\hspace{-1em}\\phantom{\\cdot}&31.&\\hspace{-1em}2&\\hspace{-1em}\\phantom{\\cdot}&0\\phantom{.}&\\hspace{-1em}&\\hspace{-1em}\\phantom{\\cdot}&4.&\\hspace{-1em}55&\\hspace{-1em}\\phantom{\\cdot}\\\\\n",
       "\\hline\n",
       "1\\phantom{.}&\\hspace{-1em}&\\hspace{-1em}\\phantom{\\cdot}&0\\phantom{.}&\\hspace{-1em}&\\hspace{-1em}\\phantom{\\cdot}&0\\phantom{.}&\\hspace{-1em}&\\hspace{-1em}\\phantom{\\cdot}&0\\phantom{.}&\\hspace{-1em}&\\hspace{-1em}\\phantom{\\cdot}&0\\phantom{.}&\\hspace{-1em}&\\hspace{-1em}\\phantom{\\cdot}\\\\\n",
       "0\\phantom{.}&\\hspace{-1em}&\\hspace{-1em}\\phantom{\\cdot}&0\\phantom{.}&\\hspace{-1em}&\\hspace{-1em}\\phantom{\\cdot}&1\\phantom{.}&\\hspace{-1em}&\\hspace{-1em}\\phantom{\\cdot}&0\\phantom{.}&\\hspace{-1em}&\\hspace{-1em}\\phantom{\\cdot}&0\\phantom{.}&\\hspace{-1em}&\\hspace{-1em}\\phantom{\\cdot}\\\\\n",
       "\\end{array}\\right)\n",
       "$$"
      ],
      "text/plain": [
       "StateSpace(array([[ 0.        ,  1.        ,  0.        ,  0.        ],\n",
       "       [ 0.        , -0.18181818,  2.67545455,  0.        ],\n",
       "       [ 0.        ,  0.        ,  0.        ,  1.        ],\n",
       "       [ 0.        , -0.45454545, 31.21363636,  0.        ]]), array([[0.        ],\n",
       "       [1.81818182],\n",
       "       [0.        ],\n",
       "       [4.54545455]]), array([[1., 0., 0., 0.],\n",
       "       [0., 0., 1., 0.]]), array([[0.],\n",
       "       [0.]]))"
      ]
     },
     "execution_count": 29,
     "metadata": {},
     "output_type": "execute_result"
    }
   ],
   "source": [
    "sys_ss"
   ]
  },
  {
   "cell_type": "code",
   "execution_count": 30,
   "metadata": {},
   "outputs": [],
   "source": [
    "#Discretization of the state-space system\n",
    "#with zero-order hold (ZOH) method\n",
    "sys_discrete = ctrl.c2d(sys_ss, Ts, method='zoh')"
   ]
  },
  {
   "cell_type": "code",
   "execution_count": 31,
   "metadata": {},
   "outputs": [],
   "source": [
    "A_zoh = np.array(sys_discrete.A)\n",
    "B_zoh = np.array(sys_discrete.B)"
   ]
  },
  {
   "cell_type": "code",
   "execution_count": 32,
   "metadata": {},
   "outputs": [
    {
     "data": {
      "text/plain": [
       "(StateSpace(array([[ 1.00000000e+00,  9.90913106e-02,  1.36466228e-02,\n",
       "          4.50875049e-04],\n",
       "        [ 0.00000000e+00,  9.81778455e-01,  2.79187747e-01,\n",
       "          1.36466228e-02],\n",
       "        [ 0.00000000e+00, -2.31848842e-03,  1.15996206e+00,\n",
       "          1.05278915e-01],\n",
       "        [ 0.00000000e+00, -4.74325089e-02,  3.27993476e+00,\n",
       "          1.15996206e+00]]), array([[0.00908689],\n",
       "        [0.18221545],\n",
       "        [0.02318488],\n",
       "        [0.47432509]]), array([[1., 0., 0., 0.],\n",
       "        [0., 0., 1., 0.]]), array([[0.],\n",
       "        [0.]]), 0.1),\n",
       " array([[ 1.00000000e+00,  9.90913106e-02,  1.36466228e-02,\n",
       "          4.50875049e-04],\n",
       "        [ 0.00000000e+00,  9.81778455e-01,  2.79187747e-01,\n",
       "          1.36466228e-02],\n",
       "        [ 0.00000000e+00, -2.31848842e-03,  1.15996206e+00,\n",
       "          1.05278915e-01],\n",
       "        [ 0.00000000e+00, -4.74325089e-02,  3.27993476e+00,\n",
       "          1.15996206e+00]]),\n",
       " array([[0.00908689],\n",
       "        [0.18221545],\n",
       "        [0.02318488],\n",
       "        [0.47432509]]))"
      ]
     },
     "execution_count": 32,
     "metadata": {},
     "output_type": "execute_result"
    }
   ],
   "source": [
    "sys_discrete, A_zoh, B_zoh"
   ]
  },
  {
   "cell_type": "code",
   "execution_count": 33,
   "metadata": {},
   "outputs": [],
   "source": [
    "# Intialization of MPC\n",
    "\n",
    "[nx, nu] = B_zoh.shape\n",
    "\n",
    "Q = sparse.diags([10., 5., 100., 5.])\n",
    "R = np.array([[.1]])\n",
    "# Compute LQR terminal cost for stability\n",
    "\n",
    "x0 = np.array([-1.5, -1., 0.65, 0.5])  # Initial conditions\n",
    "\n",
    "xr = np.array([0., 0., 0., 0.])  # Desired states\n",
    "# xr *= -1\n",
    "\n",
    "N = 10  # MPC Horizon length\n",
    "\n",
    "x = cp.Variable((nx, N+1))\n",
    "u = cp.Variable((nu, N))\n",
    "x_init = cp.Parameter(nx)\n",
    "\n",
    "nsim = 70  # Number of simulation timesteps\n",
    "time = [0.]\n",
    "cart_pos = [x0[0]]\n",
    "cart_vel = [x0[1]]\n",
    "pend_ang = [x0[2]]\n",
    "pend_ang_vel = [x0[3]]\n",
    "ctrl_effort = []"
   ]
  },
  {
   "cell_type": "code",
   "execution_count": 34,
   "metadata": {},
   "outputs": [],
   "source": [
    "# Define the MPC\n",
    "def run_mpc():\n",
    "    cost = 0.                                                       # From B: Initialize cost to zero\n",
    "    constr = [x[:, 0] == x_init]                                    # From D: Initial state constraint\n",
    "    \n",
    "    for t in range(N):\n",
    "        cost += cp.quad_form(x[:, t] - xr, Q) + cp.quad_form(u[:, t], R)  # From E: Stage cost\n",
    "        constr += [cp.norm(u[:, t], 'inf') <= 10.]                  # From C: Input constraint\n",
    "        constr += [x[:, t + 1] == A_zoh @ x[:, t] + B_zoh @ u[:, t]]  # From F: Dynamics constraint\n",
    "\n",
    "    cost += cp.quad_form(x[:, N] - xr, Q)                           # From A: Terminal cost\n",
    "    problem = cp.Problem(cp.Minimize(cost), constr)\n",
    "    return problem\n",
    "\n",
    "\n"
   ]
  },
  {
   "cell_type": "markdown",
   "metadata": {},
   "source": [
    "Initial condition for MPC\n",
    "\n",
    "$x(0) == x_{init}$\n",
    "\n",
    "Prediction in MPC loop\n",
    "\n",
    "$ x_{t+1} == A_{discrete} * x(t) + B_{discrete} * u(t)$"
   ]
  },
  {
   "cell_type": "code",
   "execution_count": null,
   "metadata": {},
   "outputs": [
    {
     "name": "stdout",
     "output_type": "stream",
     "text": [
      "TIME:  0.1 STATES:  [-1.5, -1.0, 0.65, 0.5]\n",
      "TIME:  0.2 STATES:  [-1.68, -2.62, 0.58, -1.98]\n",
      "TIME:  0.3 STATES:  [-2.02, -4.26, 0.23, -5.03]\n",
      "TIME:  0.4 STATES:  [-2.41, -3.43, -0.15, -2.91]\n",
      "TIME:  0.5 STATES:  [-2.71, -2.55, -0.36, -1.37]\n",
      "TIME:  0.6 STATES:  [-2.92, -1.77, -0.45, -0.43]\n",
      "TIME:  0.7 STATES:  [-3.07, -1.11, -0.46, 0.11]\n",
      "TIME:  0.8 STATES:  [-3.15, -0.55, -0.44, 0.4]\n",
      "TIME:  0.9 STATES:  [-3.18, -0.09, -0.39, 0.53]\n",
      "TIME:  1.0 STATES:  [-3.17, 0.29, -0.34, 0.57]\n",
      "TIME:  1.1 STATES:  [-3.13, 0.59, -0.28, 0.56]\n",
      "TIME:  1.2 STATES:  [-3.05, 0.83, -0.23, 0.52]\n",
      "TIME:  1.3 STATES:  [-2.96, 1.01, -0.18, 0.47]\n",
      "TIME:  1.4 STATES:  [-2.85, 1.15, -0.14, 0.41]\n",
      "TIME:  1.5 STATES:  [-2.74, 1.24, -0.1, 0.36]\n",
      "TIME:  1.6 STATES:  [-2.61, 1.3, -0.07, 0.3]\n",
      "TIME:  1.7 STATES:  [-2.48, 1.34, -0.04, 0.25]\n",
      "TIME:  1.8 STATES:  [-2.34, 1.35, -0.02, 0.21]\n",
      "TIME:  1.9 STATES:  [-2.21, 1.35, -0.0, 0.17]\n",
      "TIME:  2.0 STATES:  [-2.07, 1.33, 0.01, 0.14]\n",
      "TIME:  2.1 STATES:  [-1.94, 1.29, 0.03, 0.11]\n",
      "TIME:  2.2 STATES:  [-1.81, 1.25, 0.04, 0.08]\n",
      "TIME:  2.3 STATES:  [-1.69, 1.21, 0.04, 0.06]\n",
      "TIME:  2.4 STATES:  [-1.57, 1.16, 0.05, 0.05]\n",
      "TIME:  2.5 STATES:  [-1.46, 1.1, 0.05, 0.03]\n",
      "TIME:  2.6 STATES:  [-1.35, 1.04, 0.05, 0.02]\n",
      "TIME:  2.7 STATES:  [-1.25, 0.99, 0.05, 0.01]\n",
      "TIME:  2.8 STATES:  [-1.16, 0.93, 0.06, -0.0]\n",
      "TIME:  2.9 STATES:  [-1.07, 0.87, 0.05, -0.01]\n",
      "TIME:  3.0 STATES:  [-0.98, 0.82, 0.05, -0.01]\n",
      "TIME:  3.1 STATES:  [-0.9, 0.76, 0.05, -0.02]\n",
      "TIME:  3.2 STATES:  [-0.83, 0.71, 0.05, -0.02]\n",
      "TIME:  3.3 STATES:  [-0.76, 0.66, 0.05, -0.02]\n",
      "TIME:  3.4 STATES:  [-0.7, 0.61, 0.05, -0.02]\n",
      "TIME:  3.5 STATES:  [-0.64, 0.57, 0.04, -0.02]\n",
      "TIME:  3.6 STATES:  [-0.58, 0.53, 0.04, -0.02]\n",
      "TIME:  3.7 STATES:  [-0.53, 0.49, 0.04, -0.02]\n",
      "TIME:  3.8 STATES:  [-0.48, 0.45, 0.04, -0.02]\n",
      "TIME:  3.9 STATES:  [-0.44, 0.41, 0.04, -0.02]\n",
      "TIME:  4.0 STATES:  [-0.4, 0.38, 0.03, -0.02]\n",
      "TIME:  4.1 STATES:  [-0.37, 0.35, 0.03, -0.02]\n",
      "TIME:  4.2 STATES:  [-0.33, 0.32, 0.03, -0.02]\n",
      "TIME:  4.3 STATES:  [-0.3, 0.29, 0.03, -0.02]\n",
      "TIME:  4.4 STATES:  [-0.27, 0.27, 0.02, -0.02]\n",
      "TIME:  4.5 STATES:  [-0.25, 0.24, 0.02, -0.02]\n",
      "TIME:  4.6 STATES:  [-0.23, 0.22, 0.02, -0.02]\n",
      "TIME:  4.7 STATES:  [-0.2, 0.2, 0.02, -0.02]\n",
      "TIME:  4.8 STATES:  [-0.18, 0.19, 0.02, -0.02]\n",
      "TIME:  4.9 STATES:  [-0.17, 0.17, 0.02, -0.01]\n",
      "TIME:  5.0 STATES:  [-0.15, 0.15, 0.02, -0.01]\n",
      "TIME:  5.1 STATES:  [-0.14, 0.14, 0.01, -0.01]\n",
      "TIME:  5.2 STATES:  [-0.12, 0.13, 0.01, -0.01]\n",
      "TIME:  5.3 STATES:  [-0.11, 0.11, 0.01, -0.01]\n",
      "TIME:  5.4 STATES:  [-0.1, 0.1, 0.01, -0.01]\n",
      "TIME:  5.5 STATES:  [-0.09, 0.09, 0.01, -0.01]\n",
      "TIME:  5.6 STATES:  [-0.08, 0.09, 0.01, -0.01]\n",
      "TIME:  5.7 STATES:  [-0.07, 0.08, 0.01, -0.01]\n",
      "TIME:  5.8 STATES:  [-0.07, 0.07, 0.01, -0.01]\n",
      "TIME:  5.9 STATES:  [-0.06, 0.06, 0.01, -0.01]\n",
      "TIME:  6.0 STATES:  [-0.05, 0.06, 0.01, -0.01]\n",
      "TIME:  6.1 STATES:  [-0.05, 0.05, 0.01, -0.01]\n",
      "TIME:  6.2 STATES:  [-0.04, 0.05, 0.01, -0.01]\n",
      "TIME:  6.3 STATES:  [-0.04, 0.04, 0.0, -0.0]\n",
      "TIME:  6.4 STATES:  [-0.03, 0.04, 0.0, -0.0]\n",
      "TIME:  6.5 STATES:  [-0.03, 0.03, 0.0, -0.0]\n",
      "TIME:  6.6 STATES:  [-0.03, 0.03, 0.0, -0.0]\n",
      "TIME:  6.7 STATES:  [-0.02, 0.03, 0.0, -0.0]\n",
      "TIME:  6.8 STATES:  [-0.02, 0.02, 0.0, -0.0]\n",
      "TIME:  6.9 STATES:  [-0.02, 0.02, 0.0, -0.0]\n",
      "TIME:  7.0 STATES:  [-0.02, 0.02, 0.0, -0.0]\n",
      "Total control effort:  [62.93337392]\n"
     ]
    }
   ],
   "source": [
    "dt = Ts\n",
    "total_effort = 0\n",
    "for i in range(1, nsim+1):\n",
    "    prob = run_mpc()\n",
    "    x_init.value = x0\n",
    "    print('TIME: ', round(i*dt, 2), 'STATES: ', [round(state, 2) for state in x0])\n",
    "    prob.solve(solver=cp.OSQP, warm_start=True)\n",
    "    \n",
    "    # Store current states\n",
    "    time.append(i)\n",
    "    cart_pos.append(x0[0])\n",
    "    cart_vel.append(x0[1])\n",
    "    pend_ang.append(x0[2])\n",
    "    pend_ang_vel.append(x0[3])\n",
    "    \n",
    "    # Extract the optimal control input\n",
    "    u_optimal = u[:, 0].value\n",
    "    \n",
    "    # Store the control effort\n",
    "    ctrl_effort.append(u_optimal)\n",
    "    \n",
    "    # Update total effort (absolute value)\n",
    "    total_effort += abs(u_optimal)\n",
    "    \n",
    "    # Update the state for the next iteration using the system dynamics\n",
    "    x0 = A_zoh @ x0 + B_zoh @ u_optimal\n",
    "    print(\"Control Effort: \", u_optimal)\n",
    "\n",
    "print(\"Total control effort: \", total_effort)\n",
    "\n"
   ]
  },
  {
   "cell_type": "markdown",
   "metadata": {},
   "source": [
    "$ x_{0} = A_{discrete} * x(t) + B_{discrete} * u(t)$"
   ]
  },
  {
   "cell_type": "code",
   "execution_count": 36,
   "metadata": {},
   "outputs": [
    {
     "data": {
      "image/png": "[encoded data removed]",
      "text/plain": [
       "<Figure size 640x480 with 2 Axes>"
      ]
     },
     "metadata": {},
     "output_type": "display_data"
    }
   ],
   "source": [
    "def plot_results():\n",
    "    f = plt.figure()\n",
    "    ax = f.add_subplot(211)\n",
    "    plt.plot(cart_pos, label='cart pos')\n",
    "    plt.plot(cart_vel, label='cart vel')\n",
    "    plt.plot(pend_ang, label='pend ang')\n",
    "    plt.plot(pend_ang_vel, label='pend ang vel')\n",
    "    plt.ylabel(r\"$(x_t)_1$\", fontsize=16)\n",
    "    plt.xticks([t_step for t_step in range(nsim) if t_step % 10 == 0])\n",
    "    plt.legend()\n",
    "    plt.grid()\n",
    "\n",
    "    plt.subplot(4, 1, 3)\n",
    "    plt.plot(ctrl_effort)\n",
    "    plt.ylabel(r\"$(u_t)_1$\", fontsize=16)\n",
    "    plt.xticks([t_step for t_step in range(nsim) if t_step % 10 == 0])\n",
    "    plt.grid()\n",
    "\n",
    "    plt.tight_layout()\n",
    "    plt.show()\n",
    "    \n",
    "    \n",
    "    \n",
    "plot_results()"
   ]
  },
  {
   "cell_type": "code",
   "execution_count": 37,
   "metadata": {},
   "outputs": [
    {
     "data": {
      "image/png": "[encoded data removed]",
      "text/plain": [
       "<Figure size 640x480 with 1 Axes>"
      ]
     },
     "metadata": {},
     "output_type": "display_data"
    }
   ],
   "source": [
    "def animated_plot():\n",
    "    fig = plt.figure()\n",
    "    ax = plt.axes(xlim=(-5., 5.), ylim=(-.5, 2.))\n",
    "    time_text = ax.text(2.75, 1.75, '')\n",
    "    angle_text = ax.text(2.75, 1.65, '')\n",
    "    pos_text = ax.text(2.75, 1.55, '')\n",
    "    times = range(nsim)\n",
    "\n",
    "    def update(i):\n",
    "        time_text.set_text(\"Time: {0:0}\".format(round(times[i]*dt, 2)))\n",
    "        angle_text.set_text(\"Angle: {0:0.2f}\".format(pend_ang[i]*57.3))\n",
    "        pos_text.set_text(\"Pos: {0:0.2f}\".format(-cart_pos[i]))\n",
    "\n",
    "        cart_x = -cart_pos[i]\n",
    "        pend_pos = pend_ang[i]\n",
    "        pendulum_x0 = cart_x\n",
    "        pendulum_y0 = 0.\n",
    "        pendulum_x1 = cart_x + l*sin(pend_pos)\n",
    "        pendulum_y1 = l*cos(pend_pos)\n",
    "\n",
    "        cart.set_data([cart_x-.15, cart_x+.15], [0., 0.])\n",
    "        pend.set_data([pendulum_x0, pendulum_x1], [pendulum_y0, pendulum_y1])\n",
    "        # Fix: Wrap single values in lists to make them sequences\n",
    "        ball.set_data([pendulum_x1], [pendulum_y1])\n",
    "        return (cart, pend, ball)\n",
    "\n",
    "    cart, = plt.plot([], [], 'black', linewidth=5.)\n",
    "    pend, = plt.plot([], [], 'b-')\n",
    "    ball, = plt.plot([], [], 'ro', markersize=8.)\n",
    "    plt.xlabel('X position (m)')\n",
    "    plt.ylabel('Y position (m)')\n",
    "    line_ani = animation.FuncAnimation(fig, update, int(nsim), interval=100, repeat=True, blit=True)\n",
    "    \n",
    "    # Try using a specific writer\n",
    "    try:\n",
    "        from matplotlib.animation import PillowWriter\n",
    "        line_ani.save('mpc.gif', writer=PillowWriter(fps=10))\n",
    "    except Exception as e:\n",
    "        print(f\"Error saving animation: {e}\")\n",
    "        print(\"Displaying animation without saving...\")\n",
    "    \n",
    "    plt.show()\n",
    "\n",
    "animated_plot()"
   ]
  }
 ],
 "metadata": {
  "kernelspec": {
   "display_name": "Python 3",
   "language": "python",
   "name": "python3"
  },
  "language_info": {
   "codemirror_mode": {
    "name": "ipython",
    "version": 3
   },
   "file_extension": ".py",
   "mimetype": "text/x-python",
   "name": "python",
   "nbconvert_exporter": "python",
   "pygments_lexer": "ipython3",
   "version": "3.12.7"
  }
 },
 "nbformat": 4,
 "nbformat_minor": 2
}
